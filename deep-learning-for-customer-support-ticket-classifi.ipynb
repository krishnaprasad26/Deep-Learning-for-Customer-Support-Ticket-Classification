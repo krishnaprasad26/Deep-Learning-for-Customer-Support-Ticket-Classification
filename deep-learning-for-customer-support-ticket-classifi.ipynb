{
 "cells": [
  {
   "cell_type": "markdown",
   "id": "d1c3f1bd",
   "metadata": {
    "_cell_guid": "b1076dfc-b9ad-4769-8c92-a6c4dae69d19",
    "_uuid": "8f2839f25d086af736a60e9eeb907d3b93b6e0e5",
    "papermill": {
     "duration": 0.011942,
     "end_time": "2024-07-14T06:33:28.226433",
     "exception": false,
     "start_time": "2024-07-14T06:33:28.214491",
     "status": "completed"
    },
    "tags": []
   },
   "source": [
    "# Introduction\n",
    "\n",
    "At the forefront of AI innovation, a leading company specializing in the development of AI-driven solutions aims to enhance customer support services with their latest endeavor: engineering a text classification system that can automatically categorize customer complaints.\n",
    "\n",
    "In this project, I am tasked with creating a sophisticated machine learning model that can accurately assign complaints to specific categories such as mortgage, credit card, money transfers, debt collection, and more. This model aims to streamline the process of handling customer complaints, ensuring that issues are directed to the appropriate departments swiftly and efficiently. By leveraging advanced text classification techniques, the goal is to improve customer satisfaction and operational efficiency."
   ]
  },
  {
   "cell_type": "code",
   "execution_count": 1,
   "id": "5c92ea8c",
   "metadata": {
    "execution": {
     "iopub.execute_input": "2024-07-14T06:33:28.251552Z",
     "iopub.status.busy": "2024-07-14T06:33:28.250404Z",
     "iopub.status.idle": "2024-07-14T06:33:45.175712Z",
     "shell.execute_reply": "2024-07-14T06:33:45.174008Z"
    },
    "papermill": {
     "duration": 16.940769,
     "end_time": "2024-07-14T06:33:45.178572",
     "exception": false,
     "start_time": "2024-07-14T06:33:28.237803",
     "status": "completed"
    },
    "tags": []
   },
   "outputs": [
    {
     "name": "stdout",
     "output_type": "stream",
     "text": [
      "Requirement already satisfied: torchmetrics in /opt/conda/lib/python3.10/site-packages (1.4.0.post0)\r\n",
      "Requirement already satisfied: numpy>1.20.0 in /opt/conda/lib/python3.10/site-packages (from torchmetrics) (1.26.4)\r\n",
      "Requirement already satisfied: packaging>17.1 in /opt/conda/lib/python3.10/site-packages (from torchmetrics) (21.3)\r\n",
      "Requirement already satisfied: torch>=1.10.0 in /opt/conda/lib/python3.10/site-packages (from torchmetrics) (2.1.2+cpu)\r\n",
      "Requirement already satisfied: lightning-utilities>=0.8.0 in /opt/conda/lib/python3.10/site-packages (from torchmetrics) (0.11.2)\r\n",
      "Requirement already satisfied: setuptools in /opt/conda/lib/python3.10/site-packages (from lightning-utilities>=0.8.0->torchmetrics) (69.0.3)\r\n",
      "Requirement already satisfied: typing-extensions in /opt/conda/lib/python3.10/site-packages (from lightning-utilities>=0.8.0->torchmetrics) (4.9.0)\r\n",
      "Requirement already satisfied: pyparsing!=3.0.5,>=2.0.2 in /opt/conda/lib/python3.10/site-packages (from packaging>17.1->torchmetrics) (3.1.1)\r\n",
      "Requirement already satisfied: filelock in /opt/conda/lib/python3.10/site-packages (from torch>=1.10.0->torchmetrics) (3.13.1)\r\n",
      "Requirement already satisfied: sympy in /opt/conda/lib/python3.10/site-packages (from torch>=1.10.0->torchmetrics) (1.12.1)\r\n",
      "Requirement already satisfied: networkx in /opt/conda/lib/python3.10/site-packages (from torch>=1.10.0->torchmetrics) (3.2.1)\r\n",
      "Requirement already satisfied: jinja2 in /opt/conda/lib/python3.10/site-packages (from torch>=1.10.0->torchmetrics) (3.1.2)\r\n",
      "Requirement already satisfied: fsspec in /opt/conda/lib/python3.10/site-packages (from torch>=1.10.0->torchmetrics) (2024.3.1)\r\n",
      "Requirement already satisfied: MarkupSafe>=2.0 in /opt/conda/lib/python3.10/site-packages (from jinja2->torch>=1.10.0->torchmetrics) (2.1.3)\r\n",
      "Requirement already satisfied: mpmath<1.4.0,>=1.1.0 in /opt/conda/lib/python3.10/site-packages (from sympy->torch>=1.10.0->torchmetrics) (1.3.0)\r\n"
     ]
    }
   ],
   "source": [
    "!pip install torchmetrics"
   ]
  },
  {
   "cell_type": "code",
   "execution_count": 2,
   "id": "b4da6dfc",
   "metadata": {
    "execution": {
     "iopub.execute_input": "2024-07-14T06:33:45.198353Z",
     "iopub.status.busy": "2024-07-14T06:33:45.197962Z",
     "iopub.status.idle": "2024-07-14T06:33:56.257185Z",
     "shell.execute_reply": "2024-07-14T06:33:56.255984Z"
    },
    "papermill": {
     "duration": 11.072469,
     "end_time": "2024-07-14T06:33:56.260119",
     "exception": false,
     "start_time": "2024-07-14T06:33:45.187650",
     "status": "completed"
    },
    "tags": []
   },
   "outputs": [],
   "source": [
    "#importing required libraries\n",
    "\n",
    "from collections import Counter\n",
    "import nltk, json\n",
    "import numpy as np\n",
    "import pandas as pd\n",
    "from sklearn.model_selection import train_test_split\n",
    "import torch\n",
    "import torch.nn as nn\n",
    "import torch.nn.functional as F\n",
    "from torch.utils.data import TensorDataset, DataLoader\n",
    "from torchmetrics import Accuracy, Precision, Recall"
   ]
  },
  {
   "cell_type": "code",
   "execution_count": 3,
   "id": "ed6264dd",
   "metadata": {
    "execution": {
     "iopub.execute_input": "2024-07-14T06:33:56.279298Z",
     "iopub.status.busy": "2024-07-14T06:33:56.278731Z",
     "iopub.status.idle": "2024-07-14T06:33:56.433537Z",
     "shell.execute_reply": "2024-07-14T06:33:56.432427Z"
    },
    "papermill": {
     "duration": 0.167176,
     "end_time": "2024-07-14T06:33:56.436042",
     "exception": false,
     "start_time": "2024-07-14T06:33:56.268866",
     "status": "completed"
    },
    "tags": []
   },
   "outputs": [
    {
     "name": "stdout",
     "output_type": "stream",
     "text": [
      "[nltk_data] Downloading package punkt to /usr/share/nltk_data...\n",
      "[nltk_data]   Package punkt is already up-to-date!\n"
     ]
    },
    {
     "data": {
      "text/plain": [
       "True"
      ]
     },
     "execution_count": 3,
     "metadata": {},
     "output_type": "execute_result"
    }
   ],
   "source": [
    "nltk.download('punkt')"
   ]
  },
  {
   "cell_type": "markdown",
   "id": "b50ad04f",
   "metadata": {
    "papermill": {
     "duration": 0.008511,
     "end_time": "2024-07-14T06:33:56.453362",
     "exception": false,
     "start_time": "2024-07-14T06:33:56.444851",
     "status": "completed"
    },
    "tags": []
   },
   "source": [
    "# Import data and labels"
   ]
  },
  {
   "cell_type": "code",
   "execution_count": 4,
   "id": "428a3df9",
   "metadata": {
    "execution": {
     "iopub.execute_input": "2024-07-14T06:33:56.472639Z",
     "iopub.status.busy": "2024-07-14T06:33:56.472243Z",
     "iopub.status.idle": "2024-07-14T06:33:56.792773Z",
     "shell.execute_reply": "2024-07-14T06:33:56.791532Z"
    },
    "papermill": {
     "duration": 0.333322,
     "end_time": "2024-07-14T06:33:56.795487",
     "exception": false,
     "start_time": "2024-07-14T06:33:56.462165",
     "status": "completed"
    },
    "tags": []
   },
   "outputs": [],
   "source": [
    "# Import data and labels\n",
    "with open(\"/kaggle/input/ticket-classification/words.json\", 'r') as f1:\n",
    "    words = json.load(f1)\n",
    "with open(\"/kaggle/input/ticket-classification/text.json\", 'r') as f2:\n",
    "    text = json.load(f2)\n",
    "labels = np.load('/kaggle/input/labels/labels.npy')"
   ]
  },
  {
   "cell_type": "markdown",
   "id": "3a92f092",
   "metadata": {
    "papermill": {
     "duration": 0.008639,
     "end_time": "2024-07-14T06:33:56.813263",
     "exception": false,
     "start_time": "2024-07-14T06:33:56.804624",
     "status": "completed"
    },
    "tags": []
   },
   "source": [
    "# Mapping Words to Indices and Padding Sentences"
   ]
  },
  {
   "cell_type": "code",
   "execution_count": 5,
   "id": "bc445342",
   "metadata": {
    "execution": {
     "iopub.execute_input": "2024-07-14T06:33:56.832964Z",
     "iopub.status.busy": "2024-07-14T06:33:56.832541Z",
     "iopub.status.idle": "2024-07-14T06:33:57.289019Z",
     "shell.execute_reply": "2024-07-14T06:33:57.287878Z"
    },
    "papermill": {
     "duration": 0.469707,
     "end_time": "2024-07-14T06:33:57.291909",
     "exception": false,
     "start_time": "2024-07-14T06:33:56.822202",
     "status": "completed"
    },
    "tags": []
   },
   "outputs": [],
   "source": [
    "# Dictionaries to store the word to index mappings and vice versa\n",
    "word2idx = {o:i for i,o in enumerate(words)}\n",
    "idx2word = {i:o for i,o in enumerate(words)}\n",
    "\n",
    "# Looking up the mapping dictionary and assigning the index to the respective words\n",
    "for i, sentence in enumerate(text):\n",
    "    text[i] = [word2idx[word] if word in word2idx else 0 for word in sentence]\n",
    "    \n",
    "# Defining a function that either shortens sentences or pads sentences with 0 to a fixed length\n",
    "def pad_input(sentences, seq_len):\n",
    "    features = np.zeros((len(sentences), seq_len),dtype=int)\n",
    "    for ii, review in enumerate(sentences):\n",
    "        if len(review) != 0:\n",
    "            features[ii, -len(review):] = np.array(review)[:seq_len]\n",
    "    return features\n",
    "\n",
    "text = pad_input(text, 50)"
   ]
  },
  {
   "cell_type": "markdown",
   "id": "9a56f96d",
   "metadata": {
    "papermill": {
     "duration": 0.008454,
     "end_time": "2024-07-14T06:33:57.309221",
     "exception": false,
     "start_time": "2024-07-14T06:33:57.300767",
     "status": "completed"
    },
    "tags": []
   },
   "source": [
    "# Splitting dataset"
   ]
  },
  {
   "cell_type": "code",
   "execution_count": 6,
   "id": "60e82a1e",
   "metadata": {
    "execution": {
     "iopub.execute_input": "2024-07-14T06:33:57.329434Z",
     "iopub.status.busy": "2024-07-14T06:33:57.329017Z",
     "iopub.status.idle": "2024-07-14T06:33:57.365110Z",
     "shell.execute_reply": "2024-07-14T06:33:57.364031Z"
    },
    "papermill": {
     "duration": 0.049703,
     "end_time": "2024-07-14T06:33:57.367838",
     "exception": false,
     "start_time": "2024-07-14T06:33:57.318135",
     "status": "completed"
    },
    "tags": []
   },
   "outputs": [],
   "source": [
    "# Splitting dataset\n",
    "train_text, test_text, train_label, test_label = train_test_split(text, labels, test_size=0.2, random_state=42)\n",
    "\n",
    "train_data = TensorDataset(torch.from_numpy(train_text), torch.from_numpy(train_label).long())\n",
    "test_data = TensorDataset(torch.from_numpy(test_text), torch.from_numpy(test_label).long())"
   ]
  },
  {
   "cell_type": "markdown",
   "id": "3274f8d9",
   "metadata": {
    "papermill": {
     "duration": 0.008979,
     "end_time": "2024-07-14T06:33:57.385807",
     "exception": false,
     "start_time": "2024-07-14T06:33:57.376828",
     "status": "completed"
    },
    "tags": []
   },
   "source": [
    "# Creating Data Loaders"
   ]
  },
  {
   "cell_type": "code",
   "execution_count": 7,
   "id": "5ac616c1",
   "metadata": {
    "execution": {
     "iopub.execute_input": "2024-07-14T06:33:57.405360Z",
     "iopub.status.busy": "2024-07-14T06:33:57.404983Z",
     "iopub.status.idle": "2024-07-14T06:33:57.411541Z",
     "shell.execute_reply": "2024-07-14T06:33:57.410265Z"
    },
    "papermill": {
     "duration": 0.019204,
     "end_time": "2024-07-14T06:33:57.414064",
     "exception": false,
     "start_time": "2024-07-14T06:33:57.394860",
     "status": "completed"
    },
    "tags": []
   },
   "outputs": [],
   "source": [
    "# Set the batch size for loading data\n",
    "batch_size = 400\n",
    "\n",
    "# Create a DataLoader for the training data with shuffling enabled\n",
    "train_loader = DataLoader(train_data, shuffle=True, batch_size=batch_size)\n",
    "\n",
    "# Create a DataLoader for the test data with shuffling disabled\n",
    "test_loader = DataLoader(test_data, shuffle=False, batch_size=batch_size)\n"
   ]
  },
  {
   "cell_type": "markdown",
   "id": "6b65826e",
   "metadata": {
    "papermill": {
     "duration": 0.00863,
     "end_time": "2024-07-14T06:33:57.431748",
     "exception": false,
     "start_time": "2024-07-14T06:33:57.423118",
     "status": "completed"
    },
    "tags": []
   },
   "source": [
    "# Define the Ticket Classifier Model"
   ]
  },
  {
   "cell_type": "code",
   "execution_count": 8,
   "id": "3dac43fd",
   "metadata": {
    "execution": {
     "iopub.execute_input": "2024-07-14T06:33:57.451384Z",
     "iopub.status.busy": "2024-07-14T06:33:57.450705Z",
     "iopub.status.idle": "2024-07-14T06:33:57.459381Z",
     "shell.execute_reply": "2024-07-14T06:33:57.458276Z"
    },
    "papermill": {
     "duration": 0.021223,
     "end_time": "2024-07-14T06:33:57.461917",
     "exception": false,
     "start_time": "2024-07-14T06:33:57.440694",
     "status": "completed"
    },
    "tags": []
   },
   "outputs": [],
   "source": [
    "# Define the classifier class\n",
    "class TicketClassifier(nn.Module):\n",
    "    def __init__(self, vocab_size, embed_dim, target_size):\n",
    "        super(TicketClassifier, self).__init__()\n",
    "        # Embedding layer to convert word indices to dense vectors\n",
    "        self.embedding = nn.Embedding(vocab_size, embed_dim)\n",
    "        # Convolutional layer to capture local features in the text\n",
    "        self.conv = nn.Conv1d(embed_dim, embed_dim, kernel_size=3, stride=1, padding=1)\n",
    "        # Fully connected layer for classification\n",
    "        self.fc = nn.Linear(embed_dim, target_size)\n",
    "\n",
    "    def forward(self, text):\n",
    "        # Pass the input text through the embedding layer and rearrange dimensions for convolution\n",
    "        embedded = self.embedding(text).permute(0, 2, 1)\n",
    "        # Apply convolution and ReLU activation\n",
    "        conved = F.relu(self.conv(embedded))\n",
    "        # Average pooling across the sequence length\n",
    "        conved = conved.mean(dim=2) \n",
    "        # Pass the pooled features through the fully connected layer\n",
    "        return self.fc(conved)"
   ]
  },
  {
   "cell_type": "markdown",
   "id": "9311e732",
   "metadata": {
    "papermill": {
     "duration": 0.008533,
     "end_time": "2024-07-14T06:33:57.479287",
     "exception": false,
     "start_time": "2024-07-14T06:33:57.470754",
     "status": "completed"
    },
    "tags": []
   },
   "source": [
    "# Define Model Hyperparameters"
   ]
  },
  {
   "cell_type": "code",
   "execution_count": 9,
   "id": "9aa2541f",
   "metadata": {
    "execution": {
     "iopub.execute_input": "2024-07-14T06:33:57.499563Z",
     "iopub.status.busy": "2024-07-14T06:33:57.499105Z",
     "iopub.status.idle": "2024-07-14T06:33:57.505528Z",
     "shell.execute_reply": "2024-07-14T06:33:57.504433Z"
    },
    "papermill": {
     "duration": 0.019147,
     "end_time": "2024-07-14T06:33:57.508062",
     "exception": false,
     "start_time": "2024-07-14T06:33:57.488915",
     "status": "completed"
    },
    "tags": []
   },
   "outputs": [],
   "source": [
    "# Calculate the vocabulary size (including an extra token for padding/unknown words)\n",
    "vocab_size = len(word2idx) + 1\n",
    "\n",
    "# Determine the number of unique target categories\n",
    "target_size = len(np.unique(labels))\n",
    "\n",
    "# Set the dimensionality of the embedding vectors\n",
    "embedding_dim = 64\n"
   ]
  },
  {
   "cell_type": "markdown",
   "id": "ee1e46d5",
   "metadata": {
    "papermill": {
     "duration": 0.008772,
     "end_time": "2024-07-14T06:33:57.525797",
     "exception": false,
     "start_time": "2024-07-14T06:33:57.517025",
     "status": "completed"
    },
    "tags": []
   },
   "source": [
    "# Initialize Model, Loss Function, and Optimizer"
   ]
  },
  {
   "cell_type": "code",
   "execution_count": 10,
   "id": "19ab06c0",
   "metadata": {
    "execution": {
     "iopub.execute_input": "2024-07-14T06:33:57.547869Z",
     "iopub.status.busy": "2024-07-14T06:33:57.546709Z",
     "iopub.status.idle": "2024-07-14T06:33:58.425918Z",
     "shell.execute_reply": "2024-07-14T06:33:58.424704Z"
    },
    "papermill": {
     "duration": 0.892418,
     "end_time": "2024-07-14T06:33:58.428750",
     "exception": false,
     "start_time": "2024-07-14T06:33:57.536332",
     "status": "completed"
    },
    "tags": []
   },
   "outputs": [],
   "source": [
    "# Create an instance of the TicketClassifier class\n",
    "model = TicketClassifier(vocab_size, embedding_dim, target_size)\n",
    "\n",
    "# Set the learning rate for the optimizer\n",
    "lr = 0.05\n",
    "\n",
    "# Define the loss function as cross-entropy loss\n",
    "criterion = nn.CrossEntropyLoss()\n",
    "\n",
    "# Use the Adam optimizer for training the model\n",
    "optimizer = torch.optim.Adam(model.parameters(), lr=lr)\n",
    "\n",
    "# Set the number of training epochs\n",
    "epochs = 3"
   ]
  },
  {
   "cell_type": "markdown",
   "id": "2b3043f1",
   "metadata": {
    "papermill": {
     "duration": 0.008418,
     "end_time": "2024-07-14T06:33:58.446166",
     "exception": false,
     "start_time": "2024-07-14T06:33:58.437748",
     "status": "completed"
    },
    "tags": []
   },
   "source": [
    "# Train the Model"
   ]
  },
  {
   "cell_type": "code",
   "execution_count": 11,
   "id": "ef93623f",
   "metadata": {
    "execution": {
     "iopub.execute_input": "2024-07-14T06:33:58.465857Z",
     "iopub.status.busy": "2024-07-14T06:33:58.465237Z",
     "iopub.status.idle": "2024-07-14T06:34:00.339575Z",
     "shell.execute_reply": "2024-07-14T06:34:00.338089Z"
    },
    "papermill": {
     "duration": 1.888252,
     "end_time": "2024-07-14T06:34:00.343338",
     "exception": false,
     "start_time": "2024-07-14T06:33:58.455086",
     "status": "completed"
    },
    "tags": []
   },
   "outputs": [
    {
     "name": "stdout",
     "output_type": "stream",
     "text": [
      "Epoch: 1, Loss: 0.003962004870176315\n",
      "Epoch: 2, Loss: 0.0016485244184732436\n",
      "Epoch: 3, Loss: 0.0006994497030973435\n"
     ]
    }
   ],
   "source": [
    "# Set the model to training mode\n",
    "model.train()\n",
    "\n",
    "# Loop over the number of epochs\n",
    "for i in range(epochs):\n",
    "    running_loss, num_processed = 0, 0\n",
    "\n",
    "    # Iterate over the training data in batches\n",
    "    for inputs, labels in train_loader:\n",
    "        # Zero the gradients for the optimizer\n",
    "        model.zero_grad()\n",
    "\n",
    "        # Forward pass: compute the model output\n",
    "        output = model(inputs)\n",
    "\n",
    "        # Compute the loss\n",
    "        loss = criterion(output, labels)\n",
    "\n",
    "        # Backward pass: compute the gradients\n",
    "        loss.backward()\n",
    "\n",
    "        # Update the model parameters\n",
    "        optimizer.step()\n",
    "\n",
    "        # Accumulate the loss and the number of processed samples\n",
    "        running_loss += loss.item()\n",
    "        num_processed += len(inputs)\n",
    "\n",
    "    # Print the average loss for the epoch\n",
    "    print(f\"Epoch: {i+1}, Loss: {running_loss/num_processed}\")\n"
   ]
  },
  {
   "cell_type": "markdown",
   "id": "da8d8de3",
   "metadata": {
    "papermill": {
     "duration": 0.010913,
     "end_time": "2024-07-14T06:34:00.367248",
     "exception": false,
     "start_time": "2024-07-14T06:34:00.356335",
     "status": "completed"
    },
    "tags": []
   },
   "source": [
    "# Define Evaluation Metrics"
   ]
  },
  {
   "cell_type": "code",
   "execution_count": 12,
   "id": "40e1727e",
   "metadata": {
    "execution": {
     "iopub.execute_input": "2024-07-14T06:34:00.389917Z",
     "iopub.status.busy": "2024-07-14T06:34:00.389390Z",
     "iopub.status.idle": "2024-07-14T06:34:00.400898Z",
     "shell.execute_reply": "2024-07-14T06:34:00.399629Z"
    },
    "papermill": {
     "duration": 0.025728,
     "end_time": "2024-07-14T06:34:00.403693",
     "exception": false,
     "start_time": "2024-07-14T06:34:00.377965",
     "status": "completed"
    },
    "tags": []
   },
   "outputs": [],
   "source": [
    "# Import the necessary metric functions\n",
    "from torchmetrics import Accuracy, Precision, Recall\n",
    "\n",
    "# Define the accuracy metric for a multiclass classification task\n",
    "accuracy_metric = Accuracy(task='multiclass', num_classes=5)\n",
    "\n",
    "# Define the precision metric for each class in a multiclass classification task\n",
    "precision_metric = Precision(task='multiclass', num_classes=5, average=None)\n",
    "\n",
    "# Define the recall metric for each class in a multiclass classification task\n",
    "recall_metric = Recall(task='multiclass', num_classes=5, average=None)"
   ]
  },
  {
   "cell_type": "markdown",
   "id": "b1ff2fbf",
   "metadata": {
    "papermill": {
     "duration": 0.008918,
     "end_time": "2024-07-14T06:34:00.421958",
     "exception": false,
     "start_time": "2024-07-14T06:34:00.413040",
     "status": "completed"
    },
    "tags": []
   },
   "source": [
    "# Evaluate Model on Test Set"
   ]
  },
  {
   "cell_type": "code",
   "execution_count": 13,
   "id": "1037f432",
   "metadata": {
    "execution": {
     "iopub.execute_input": "2024-07-14T06:34:00.442263Z",
     "iopub.status.busy": "2024-07-14T06:34:00.441787Z",
     "iopub.status.idle": "2024-07-14T06:34:00.633775Z",
     "shell.execute_reply": "2024-07-14T06:34:00.632553Z"
    },
    "papermill": {
     "duration": 0.205388,
     "end_time": "2024-07-14T06:34:00.636722",
     "exception": false,
     "start_time": "2024-07-14T06:34:00.431334",
     "status": "completed"
    },
    "tags": []
   },
   "outputs": [],
   "source": [
    "# Set the model to evaluation mode\n",
    "model.eval()\n",
    "\n",
    "# Initialize an empty list to store predicted labels\n",
    "predicted = []\n",
    "\n",
    "# Iterate over the test data in batches\n",
    "for i, (inputs, labels) in enumerate(test_loader):\n",
    "    # Forward pass: compute the model output\n",
    "    output = model(inputs)\n",
    "    \n",
    "    # Predict the class with the highest probability\n",
    "    cat = torch.argmax(output, dim=-1)\n",
    "    \n",
    "    # Extend the predicted list with the predicted labels\n",
    "    predicted.extend(cat.tolist())\n",
    "    \n",
    "    # Update evaluation metrics with current batch\n",
    "    accuracy_metric(cat, labels)\n",
    "    precision_metric(cat, labels)\n",
    "    recall_metric(cat, labels)\n"
   ]
  },
  {
   "cell_type": "code",
   "execution_count": 14,
   "id": "46169651",
   "metadata": {
    "execution": {
     "iopub.execute_input": "2024-07-14T06:34:00.657881Z",
     "iopub.status.busy": "2024-07-14T06:34:00.657452Z",
     "iopub.status.idle": "2024-07-14T06:34:00.666980Z",
     "shell.execute_reply": "2024-07-14T06:34:00.665277Z"
    },
    "papermill": {
     "duration": 0.022568,
     "end_time": "2024-07-14T06:34:00.669576",
     "exception": false,
     "start_time": "2024-07-14T06:34:00.647008",
     "status": "completed"
    },
    "tags": []
   },
   "outputs": [
    {
     "name": "stdout",
     "output_type": "stream",
     "text": [
      "Accuracy: 0.796999990940094\n",
      "Precision (per class): [0.668181836605072, 0.747474730014801, 0.8405796885490417, 0.8352272510528564, 0.909547746181488]\n",
      "Recall (per class): [0.765625, 0.7789473533630371, 0.8055555820465088, 0.765625, 0.8619047403335571]\n"
     ]
    }
   ],
   "source": [
    "# Compute the evaluation metrics\n",
    "accuracy = accuracy_metric.compute().item()\n",
    "precision = precision_metric.compute().tolist()\n",
    "recall = recall_metric.compute().tolist()\n",
    "\n",
    "# Print the computed metrics\n",
    "print('Accuracy:', accuracy)\n",
    "print('Precision (per class):', precision)\n",
    "print('Recall (per class):', recall)\n"
   ]
  },
  {
   "cell_type": "markdown",
   "id": "024d45a5",
   "metadata": {
    "papermill": {
     "duration": 0.009455,
     "end_time": "2024-07-14T06:34:00.688949",
     "exception": false,
     "start_time": "2024-07-14T06:34:00.679494",
     "status": "completed"
    },
    "tags": []
   },
   "source": [
    "# Inferences\n",
    "\n",
    "**Accuracy:** The model achieves an accuracy of 79.1% on the test set, indicating its overall effectiveness in correctly predicting class labels.\n",
    "\n",
    "**Precision (per class):** Precision values vary across classes, with the highest for Class 4 (95.1%) and the lowest for Class 1 (66.1%). This indicates the model's ability to minimize false positives, particularly strong in distinguishing Class 4 instances.\n",
    "\n",
    "**Recall (per class):** The model shows varied recall rates across classes, ranging from 70.3% to 83.8%. This reflects its capability to capture true positives within each class, with Class 1 and Class 4 showing notably higher recall rates.\n",
    "\n",
    "These insights collectively highlight the model's strengths in correctly identifying specific categories of data, with a focus on precision for minimizing misclassifications and recall for comprehensive coverage of relevant instances."
   ]
  }
 ],
 "metadata": {
  "kaggle": {
   "accelerator": "none",
   "dataSources": [
    {
     "datasetId": 5330150,
     "sourceId": 8854803,
     "sourceType": "datasetVersion"
    },
    {
     "datasetId": 5330190,
     "sourceId": 8854857,
     "sourceType": "datasetVersion"
    }
   ],
   "dockerImageVersionId": 30732,
   "isGpuEnabled": false,
   "isInternetEnabled": true,
   "language": "python",
   "sourceType": "notebook"
  },
  "kernelspec": {
   "display_name": "Python 3",
   "language": "python",
   "name": "python3"
  },
  "language_info": {
   "codemirror_mode": {
    "name": "ipython",
    "version": 3
   },
   "file_extension": ".py",
   "mimetype": "text/x-python",
   "name": "python",
   "nbconvert_exporter": "python",
   "pygments_lexer": "ipython3",
   "version": "3.10.13"
  },
  "papermill": {
   "default_parameters": {},
   "duration": 37.197805,
   "end_time": "2024-07-14T06:34:02.124040",
   "environment_variables": {},
   "exception": null,
   "input_path": "__notebook__.ipynb",
   "output_path": "__notebook__.ipynb",
   "parameters": {},
   "start_time": "2024-07-14T06:33:24.926235",
   "version": "2.5.0"
  }
 },
 "nbformat": 4,
 "nbformat_minor": 5
}
