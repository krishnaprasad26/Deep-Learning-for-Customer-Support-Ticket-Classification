{
 "cells": [
  {
   "cell_type": "markdown",
   "id": "bb4d48bc",
   "metadata": {
    "_cell_guid": "b1076dfc-b9ad-4769-8c92-a6c4dae69d19",
    "_uuid": "8f2839f25d086af736a60e9eeb907d3b93b6e0e5",
    "papermill": {
     "duration": 0.00604,
     "end_time": "2024-07-09T05:36:21.592180",
     "exception": false,
     "start_time": "2024-07-09T05:36:21.586140",
     "status": "completed"
    },
    "tags": []
   },
   "source": [
    "# Introduction\n",
    "\n",
    "At the forefront of AI innovation, a leading company specializing in the development of AI-driven solutions aims to enhance customer support services with their latest endeavor: engineering a text classification system that can automatically categorize customer complaints.\n",
    "\n",
    "In this project, I am tasked with creating a sophisticated machine learning model that can accurately assign complaints to specific categories such as mortgage, credit card, money transfers, debt collection, and more. This model aims to streamline the process of handling customer complaints, ensuring that issues are directed to the appropriate departments swiftly and efficiently. By leveraging advanced text classification techniques, the goal is to improve customer satisfaction and operational efficiency."
   ]
  },
  {
   "cell_type": "code",
   "execution_count": 1,
   "id": "251457bb",
   "metadata": {
    "execution": {
     "iopub.execute_input": "2024-07-09T05:36:21.605378Z",
     "iopub.status.busy": "2024-07-09T05:36:21.604600Z",
     "iopub.status.idle": "2024-07-09T05:36:34.468731Z",
     "shell.execute_reply": "2024-07-09T05:36:34.467518Z"
    },
    "papermill": {
     "duration": 12.873682,
     "end_time": "2024-07-09T05:36:34.471475",
     "exception": false,
     "start_time": "2024-07-09T05:36:21.597793",
     "status": "completed"
    },
    "tags": []
   },
   "outputs": [
    {
     "name": "stdout",
     "output_type": "stream",
     "text": [
      "Requirement already satisfied: torchmetrics in /opt/conda/lib/python3.10/site-packages (1.4.0.post0)\r\n",
      "Requirement already satisfied: numpy>1.20.0 in /opt/conda/lib/python3.10/site-packages (from torchmetrics) (1.26.4)\r\n",
      "Requirement already satisfied: packaging>17.1 in /opt/conda/lib/python3.10/site-packages (from torchmetrics) (21.3)\r\n",
      "Requirement already satisfied: torch>=1.10.0 in /opt/conda/lib/python3.10/site-packages (from torchmetrics) (2.1.2+cpu)\r\n",
      "Requirement already satisfied: lightning-utilities>=0.8.0 in /opt/conda/lib/python3.10/site-packages (from torchmetrics) (0.11.2)\r\n",
      "Requirement already satisfied: setuptools in /opt/conda/lib/python3.10/site-packages (from lightning-utilities>=0.8.0->torchmetrics) (69.0.3)\r\n",
      "Requirement already satisfied: typing-extensions in /opt/conda/lib/python3.10/site-packages (from lightning-utilities>=0.8.0->torchmetrics) (4.9.0)\r\n",
      "Requirement already satisfied: pyparsing!=3.0.5,>=2.0.2 in /opt/conda/lib/python3.10/site-packages (from packaging>17.1->torchmetrics) (3.1.1)\r\n",
      "Requirement already satisfied: filelock in /opt/conda/lib/python3.10/site-packages (from torch>=1.10.0->torchmetrics) (3.13.1)\r\n",
      "Requirement already satisfied: sympy in /opt/conda/lib/python3.10/site-packages (from torch>=1.10.0->torchmetrics) (1.12.1)\r\n",
      "Requirement already satisfied: networkx in /opt/conda/lib/python3.10/site-packages (from torch>=1.10.0->torchmetrics) (3.2.1)\r\n",
      "Requirement already satisfied: jinja2 in /opt/conda/lib/python3.10/site-packages (from torch>=1.10.0->torchmetrics) (3.1.2)\r\n",
      "Requirement already satisfied: fsspec in /opt/conda/lib/python3.10/site-packages (from torch>=1.10.0->torchmetrics) (2024.3.1)\r\n",
      "Requirement already satisfied: MarkupSafe>=2.0 in /opt/conda/lib/python3.10/site-packages (from jinja2->torch>=1.10.0->torchmetrics) (2.1.3)\r\n",
      "Requirement already satisfied: mpmath<1.4.0,>=1.1.0 in /opt/conda/lib/python3.10/site-packages (from sympy->torch>=1.10.0->torchmetrics) (1.3.0)\r\n"
     ]
    }
   ],
   "source": [
    "!pip install torchmetrics"
   ]
  },
  {
   "cell_type": "code",
   "execution_count": 2,
   "id": "696713f0",
   "metadata": {
    "execution": {
     "iopub.execute_input": "2024-07-09T05:36:34.485922Z",
     "iopub.status.busy": "2024-07-09T05:36:34.485034Z",
     "iopub.status.idle": "2024-07-09T05:36:42.768975Z",
     "shell.execute_reply": "2024-07-09T05:36:42.767924Z"
    },
    "papermill": {
     "duration": 8.293688,
     "end_time": "2024-07-09T05:36:42.771459",
     "exception": false,
     "start_time": "2024-07-09T05:36:34.477771",
     "status": "completed"
    },
    "tags": []
   },
   "outputs": [],
   "source": [
    "#importing required libraries\n",
    "\n",
    "from collections import Counter\n",
    "import nltk, json\n",
    "import numpy as np\n",
    "import pandas as pd\n",
    "from sklearn.model_selection import train_test_split\n",
    "import torch\n",
    "import torch.nn as nn\n",
    "import torch.nn.functional as F\n",
    "from torch.utils.data import TensorDataset, DataLoader\n",
    "from torchmetrics import Accuracy, Precision, Recall"
   ]
  },
  {
   "cell_type": "code",
   "execution_count": 3,
   "id": "48fc0bbb",
   "metadata": {
    "execution": {
     "iopub.execute_input": "2024-07-09T05:36:42.785601Z",
     "iopub.status.busy": "2024-07-09T05:36:42.784708Z",
     "iopub.status.idle": "2024-07-09T05:36:43.080223Z",
     "shell.execute_reply": "2024-07-09T05:36:43.079274Z"
    },
    "papermill": {
     "duration": 0.3048,
     "end_time": "2024-07-09T05:36:43.082443",
     "exception": false,
     "start_time": "2024-07-09T05:36:42.777643",
     "status": "completed"
    },
    "tags": []
   },
   "outputs": [
    {
     "name": "stdout",
     "output_type": "stream",
     "text": [
      "[nltk_data] Downloading package punkt to /usr/share/nltk_data...\n",
      "[nltk_data]   Package punkt is already up-to-date!\n"
     ]
    },
    {
     "data": {
      "text/plain": [
       "True"
      ]
     },
     "execution_count": 3,
     "metadata": {},
     "output_type": "execute_result"
    }
   ],
   "source": [
    "nltk.download('punkt')"
   ]
  },
  {
   "cell_type": "markdown",
   "id": "719807cc",
   "metadata": {
    "papermill": {
     "duration": 0.006047,
     "end_time": "2024-07-09T05:36:43.094652",
     "exception": false,
     "start_time": "2024-07-09T05:36:43.088605",
     "status": "completed"
    },
    "tags": []
   },
   "source": [
    "# Import data and labels"
   ]
  },
  {
   "cell_type": "code",
   "execution_count": 4,
   "id": "c430038b",
   "metadata": {
    "execution": {
     "iopub.execute_input": "2024-07-09T05:36:43.108284Z",
     "iopub.status.busy": "2024-07-09T05:36:43.107919Z",
     "iopub.status.idle": "2024-07-09T05:36:43.423048Z",
     "shell.execute_reply": "2024-07-09T05:36:43.422145Z"
    },
    "papermill": {
     "duration": 0.324696,
     "end_time": "2024-07-09T05:36:43.425386",
     "exception": false,
     "start_time": "2024-07-09T05:36:43.100690",
     "status": "completed"
    },
    "tags": []
   },
   "outputs": [],
   "source": [
    "# Import data and labels\n",
    "with open(\"/kaggle/input/ticket-classification/words.json\", 'r') as f1:\n",
    "    words = json.load(f1)\n",
    "with open(\"/kaggle/input/ticket-classification/text.json\", 'r') as f2:\n",
    "    text = json.load(f2)\n",
    "labels = np.load('/kaggle/input/labels/labels.npy')"
   ]
  },
  {
   "cell_type": "markdown",
   "id": "894cec9d",
   "metadata": {
    "papermill": {
     "duration": 0.00608,
     "end_time": "2024-07-09T05:36:43.437898",
     "exception": false,
     "start_time": "2024-07-09T05:36:43.431818",
     "status": "completed"
    },
    "tags": []
   },
   "source": [
    "# Mapping Words to Indices and Padding Sentences"
   ]
  },
  {
   "cell_type": "code",
   "execution_count": 5,
   "id": "b9fef6ef",
   "metadata": {
    "execution": {
     "iopub.execute_input": "2024-07-09T05:36:43.452208Z",
     "iopub.status.busy": "2024-07-09T05:36:43.451394Z",
     "iopub.status.idle": "2024-07-09T05:36:43.755056Z",
     "shell.execute_reply": "2024-07-09T05:36:43.754193Z"
    },
    "papermill": {
     "duration": 0.313319,
     "end_time": "2024-07-09T05:36:43.757413",
     "exception": false,
     "start_time": "2024-07-09T05:36:43.444094",
     "status": "completed"
    },
    "tags": []
   },
   "outputs": [],
   "source": [
    "# Dictionaries to store the word to index mappings and vice versa\n",
    "word2idx = {o:i for i,o in enumerate(words)}\n",
    "idx2word = {i:o for i,o in enumerate(words)}\n",
    "\n",
    "# Looking up the mapping dictionary and assigning the index to the respective words\n",
    "for i, sentence in enumerate(text):\n",
    "    text[i] = [word2idx[word] if word in word2idx else 0 for word in sentence]\n",
    "    \n",
    "# Defining a function that either shortens sentences or pads sentences with 0 to a fixed length\n",
    "def pad_input(sentences, seq_len):\n",
    "    features = np.zeros((len(sentences), seq_len),dtype=int)\n",
    "    for ii, review in enumerate(sentences):\n",
    "        if len(review) != 0:\n",
    "            features[ii, -len(review):] = np.array(review)[:seq_len]\n",
    "    return features\n",
    "\n",
    "text = pad_input(text, 50)"
   ]
  },
  {
   "cell_type": "markdown",
   "id": "5fe9ff91",
   "metadata": {
    "papermill": {
     "duration": 0.005977,
     "end_time": "2024-07-09T05:36:43.769636",
     "exception": false,
     "start_time": "2024-07-09T05:36:43.763659",
     "status": "completed"
    },
    "tags": []
   },
   "source": [
    "# Splitting dataset"
   ]
  },
  {
   "cell_type": "code",
   "execution_count": 6,
   "id": "5e8826b8",
   "metadata": {
    "execution": {
     "iopub.execute_input": "2024-07-09T05:36:43.783802Z",
     "iopub.status.busy": "2024-07-09T05:36:43.783176Z",
     "iopub.status.idle": "2024-07-09T05:36:43.808203Z",
     "shell.execute_reply": "2024-07-09T05:36:43.807376Z"
    },
    "papermill": {
     "duration": 0.034654,
     "end_time": "2024-07-09T05:36:43.810539",
     "exception": false,
     "start_time": "2024-07-09T05:36:43.775885",
     "status": "completed"
    },
    "tags": []
   },
   "outputs": [],
   "source": [
    "# Splitting dataset\n",
    "train_text, test_text, train_label, test_label = train_test_split(text, labels, test_size=0.2, random_state=42)\n",
    "\n",
    "train_data = TensorDataset(torch.from_numpy(train_text), torch.from_numpy(train_label).long())\n",
    "test_data = TensorDataset(torch.from_numpy(test_text), torch.from_numpy(test_label).long())"
   ]
  },
  {
   "cell_type": "markdown",
   "id": "40f0c68c",
   "metadata": {
    "papermill": {
     "duration": 0.00601,
     "end_time": "2024-07-09T05:36:43.822800",
     "exception": false,
     "start_time": "2024-07-09T05:36:43.816790",
     "status": "completed"
    },
    "tags": []
   },
   "source": [
    "# Creating Data Loaders"
   ]
  },
  {
   "cell_type": "code",
   "execution_count": 7,
   "id": "7ebcb9cb",
   "metadata": {
    "execution": {
     "iopub.execute_input": "2024-07-09T05:36:43.836821Z",
     "iopub.status.busy": "2024-07-09T05:36:43.836104Z",
     "iopub.status.idle": "2024-07-09T05:36:43.841333Z",
     "shell.execute_reply": "2024-07-09T05:36:43.840349Z"
    },
    "papermill": {
     "duration": 0.01443,
     "end_time": "2024-07-09T05:36:43.843452",
     "exception": false,
     "start_time": "2024-07-09T05:36:43.829022",
     "status": "completed"
    },
    "tags": []
   },
   "outputs": [],
   "source": [
    "# Set the batch size for loading data\n",
    "batch_size = 400\n",
    "\n",
    "# Create a DataLoader for the training data with shuffling enabled\n",
    "train_loader = DataLoader(train_data, shuffle=True, batch_size=batch_size)\n",
    "\n",
    "# Create a DataLoader for the test data with shuffling disabled\n",
    "test_loader = DataLoader(test_data, shuffle=False, batch_size=batch_size)\n"
   ]
  },
  {
   "cell_type": "markdown",
   "id": "a73663fb",
   "metadata": {
    "papermill": {
     "duration": 0.005827,
     "end_time": "2024-07-09T05:36:43.855379",
     "exception": false,
     "start_time": "2024-07-09T05:36:43.849552",
     "status": "completed"
    },
    "tags": []
   },
   "source": [
    "# Define the Ticket Classifier Model"
   ]
  },
  {
   "cell_type": "code",
   "execution_count": 8,
   "id": "5376e384",
   "metadata": {
    "execution": {
     "iopub.execute_input": "2024-07-09T05:36:43.869332Z",
     "iopub.status.busy": "2024-07-09T05:36:43.868512Z",
     "iopub.status.idle": "2024-07-09T05:36:43.875616Z",
     "shell.execute_reply": "2024-07-09T05:36:43.874647Z"
    },
    "papermill": {
     "duration": 0.016293,
     "end_time": "2024-07-09T05:36:43.877673",
     "exception": false,
     "start_time": "2024-07-09T05:36:43.861380",
     "status": "completed"
    },
    "tags": []
   },
   "outputs": [],
   "source": [
    "# Define the classifier class\n",
    "class TicketClassifier(nn.Module):\n",
    "    def __init__(self, vocab_size, embed_dim, target_size):\n",
    "        super(TicketClassifier, self).__init__()\n",
    "        # Embedding layer to convert word indices to dense vectors\n",
    "        self.embedding = nn.Embedding(vocab_size, embed_dim)\n",
    "        # Convolutional layer to capture local features in the text\n",
    "        self.conv = nn.Conv1d(embed_dim, embed_dim, kernel_size=3, stride=1, padding=1)\n",
    "        # Fully connected layer for classification\n",
    "        self.fc = nn.Linear(embed_dim, target_size)\n",
    "\n",
    "    def forward(self, text):\n",
    "        # Pass the input text through the embedding layer and rearrange dimensions for convolution\n",
    "        embedded = self.embedding(text).permute(0, 2, 1)\n",
    "        # Apply convolution and ReLU activation\n",
    "        conved = F.relu(self.conv(embedded))\n",
    "        # Average pooling across the sequence length\n",
    "        conved = conved.mean(dim=2) \n",
    "        # Pass the pooled features through the fully connected layer\n",
    "        return self.fc(conved)"
   ]
  },
  {
   "cell_type": "markdown",
   "id": "09268e80",
   "metadata": {
    "papermill": {
     "duration": 0.005866,
     "end_time": "2024-07-09T05:36:43.890895",
     "exception": false,
     "start_time": "2024-07-09T05:36:43.885029",
     "status": "completed"
    },
    "tags": []
   },
   "source": [
    "# Define Model Hyperparameters"
   ]
  },
  {
   "cell_type": "code",
   "execution_count": 9,
   "id": "47ff9543",
   "metadata": {
    "execution": {
     "iopub.execute_input": "2024-07-09T05:36:43.905086Z",
     "iopub.status.busy": "2024-07-09T05:36:43.904701Z",
     "iopub.status.idle": "2024-07-09T05:36:43.910071Z",
     "shell.execute_reply": "2024-07-09T05:36:43.909232Z"
    },
    "papermill": {
     "duration": 0.014547,
     "end_time": "2024-07-09T05:36:43.912012",
     "exception": false,
     "start_time": "2024-07-09T05:36:43.897465",
     "status": "completed"
    },
    "tags": []
   },
   "outputs": [],
   "source": [
    "# Calculate the vocabulary size (including an extra token for padding/unknown words)\n",
    "vocab_size = len(word2idx) + 1\n",
    "\n",
    "# Determine the number of unique target categories\n",
    "target_size = len(np.unique(labels))\n",
    "\n",
    "# Set the dimensionality of the embedding vectors\n",
    "embedding_dim = 64\n"
   ]
  },
  {
   "cell_type": "markdown",
   "id": "b3ff3623",
   "metadata": {
    "papermill": {
     "duration": 0.005867,
     "end_time": "2024-07-09T05:36:43.924078",
     "exception": false,
     "start_time": "2024-07-09T05:36:43.918211",
     "status": "completed"
    },
    "tags": []
   },
   "source": [
    "# Initialize Model, Loss Function, and Optimizer"
   ]
  },
  {
   "cell_type": "code",
   "execution_count": 10,
   "id": "9d67e1e0",
   "metadata": {
    "execution": {
     "iopub.execute_input": "2024-07-09T05:36:43.937666Z",
     "iopub.status.busy": "2024-07-09T05:36:43.937300Z",
     "iopub.status.idle": "2024-07-09T05:36:44.590527Z",
     "shell.execute_reply": "2024-07-09T05:36:44.589426Z"
    },
    "papermill": {
     "duration": 0.662992,
     "end_time": "2024-07-09T05:36:44.593123",
     "exception": false,
     "start_time": "2024-07-09T05:36:43.930131",
     "status": "completed"
    },
    "tags": []
   },
   "outputs": [],
   "source": [
    "# Create an instance of the TicketClassifier class\n",
    "model = TicketClassifier(vocab_size, embedding_dim, target_size)\n",
    "\n",
    "# Set the learning rate for the optimizer\n",
    "lr = 0.05\n",
    "\n",
    "# Define the loss function as cross-entropy loss\n",
    "criterion = nn.CrossEntropyLoss()\n",
    "\n",
    "# Use the Adam optimizer for training the model\n",
    "optimizer = torch.optim.Adam(model.parameters(), lr=lr)\n",
    "\n",
    "# Set the number of training epochs\n",
    "epochs = 3"
   ]
  },
  {
   "cell_type": "markdown",
   "id": "4fee1c0c",
   "metadata": {
    "papermill": {
     "duration": 0.005847,
     "end_time": "2024-07-09T05:36:44.605160",
     "exception": false,
     "start_time": "2024-07-09T05:36:44.599313",
     "status": "completed"
    },
    "tags": []
   },
   "source": [
    "# Train the Model"
   ]
  },
  {
   "cell_type": "code",
   "execution_count": 11,
   "id": "3e5ad093",
   "metadata": {
    "execution": {
     "iopub.execute_input": "2024-07-09T05:36:44.619516Z",
     "iopub.status.busy": "2024-07-09T05:36:44.618485Z",
     "iopub.status.idle": "2024-07-09T05:36:45.999854Z",
     "shell.execute_reply": "2024-07-09T05:36:45.998837Z"
    },
    "papermill": {
     "duration": 1.390882,
     "end_time": "2024-07-09T05:36:46.002165",
     "exception": false,
     "start_time": "2024-07-09T05:36:44.611283",
     "status": "completed"
    },
    "tags": []
   },
   "outputs": [
    {
     "name": "stdout",
     "output_type": "stream",
     "text": [
      "Epoch: 1, Loss: 0.003781237334012985\n",
      "Epoch: 2, Loss: 0.001505886197090149\n",
      "Epoch: 3, Loss: 0.0006394104398787021\n"
     ]
    }
   ],
   "source": [
    "# Set the model to training mode\n",
    "model.train()\n",
    "\n",
    "# Loop over the number of epochs\n",
    "for i in range(epochs):\n",
    "    running_loss, num_processed = 0, 0\n",
    "\n",
    "    # Iterate over the training data in batches\n",
    "    for inputs, labels in train_loader:\n",
    "        # Zero the gradients for the optimizer\n",
    "        model.zero_grad()\n",
    "\n",
    "        # Forward pass: compute the model output\n",
    "        output = model(inputs)\n",
    "\n",
    "        # Compute the loss\n",
    "        loss = criterion(output, labels)\n",
    "\n",
    "        # Backward pass: compute the gradients\n",
    "        loss.backward()\n",
    "\n",
    "        # Update the model parameters\n",
    "        optimizer.step()\n",
    "\n",
    "        # Accumulate the loss and the number of processed samples\n",
    "        running_loss += loss.item()\n",
    "        num_processed += len(inputs)\n",
    "\n",
    "    # Print the average loss for the epoch\n",
    "    print(f\"Epoch: {i+1}, Loss: {running_loss/num_processed}\")\n"
   ]
  },
  {
   "cell_type": "markdown",
   "id": "d6055ee7",
   "metadata": {
    "papermill": {
     "duration": 0.006159,
     "end_time": "2024-07-09T05:36:46.014790",
     "exception": false,
     "start_time": "2024-07-09T05:36:46.008631",
     "status": "completed"
    },
    "tags": []
   },
   "source": [
    "# Define Evaluation Metrics"
   ]
  },
  {
   "cell_type": "code",
   "execution_count": 12,
   "id": "b614c10b",
   "metadata": {
    "execution": {
     "iopub.execute_input": "2024-07-09T05:36:46.030215Z",
     "iopub.status.busy": "2024-07-09T05:36:46.029389Z",
     "iopub.status.idle": "2024-07-09T05:36:46.037957Z",
     "shell.execute_reply": "2024-07-09T05:36:46.037079Z"
    },
    "papermill": {
     "duration": 0.018326,
     "end_time": "2024-07-09T05:36:46.040017",
     "exception": false,
     "start_time": "2024-07-09T05:36:46.021691",
     "status": "completed"
    },
    "tags": []
   },
   "outputs": [],
   "source": [
    "# Import the necessary metric functions\n",
    "from torchmetrics import Accuracy, Precision, Recall\n",
    "\n",
    "# Define the accuracy metric for a multiclass classification task\n",
    "accuracy_metric = Accuracy(task='multiclass', num_classes=5)\n",
    "\n",
    "# Define the precision metric for each class in a multiclass classification task\n",
    "precision_metric = Precision(task='multiclass', num_classes=5, average=None)\n",
    "\n",
    "# Define the recall metric for each class in a multiclass classification task\n",
    "recall_metric = Recall(task='multiclass', num_classes=5, average=None)"
   ]
  },
  {
   "cell_type": "markdown",
   "id": "7d204cec",
   "metadata": {
    "papermill": {
     "duration": 0.006172,
     "end_time": "2024-07-09T05:36:46.052585",
     "exception": false,
     "start_time": "2024-07-09T05:36:46.046413",
     "status": "completed"
    },
    "tags": []
   },
   "source": [
    "# Evaluate Model on Test Set"
   ]
  },
  {
   "cell_type": "code",
   "execution_count": 13,
   "id": "2bef4b82",
   "metadata": {
    "execution": {
     "iopub.execute_input": "2024-07-09T05:36:46.067164Z",
     "iopub.status.busy": "2024-07-09T05:36:46.066309Z",
     "iopub.status.idle": "2024-07-09T05:36:46.214118Z",
     "shell.execute_reply": "2024-07-09T05:36:46.213032Z"
    },
    "papermill": {
     "duration": 0.157563,
     "end_time": "2024-07-09T05:36:46.216570",
     "exception": false,
     "start_time": "2024-07-09T05:36:46.059007",
     "status": "completed"
    },
    "tags": []
   },
   "outputs": [],
   "source": [
    "# Set the model to evaluation mode\n",
    "model.eval()\n",
    "\n",
    "# Initialize an empty list to store predicted labels\n",
    "predicted = []\n",
    "\n",
    "# Iterate over the test data in batches\n",
    "for i, (inputs, labels) in enumerate(test_loader):\n",
    "    # Forward pass: compute the model output\n",
    "    output = model(inputs)\n",
    "    \n",
    "    # Predict the class with the highest probability\n",
    "    cat = torch.argmax(output, dim=-1)\n",
    "    \n",
    "    # Extend the predicted list with the predicted labels\n",
    "    predicted.extend(cat.tolist())\n",
    "    \n",
    "    # Update evaluation metrics with current batch\n",
    "    accuracy_metric(cat, labels)\n",
    "    precision_metric(cat, labels)\n",
    "    recall_metric(cat, labels)\n"
   ]
  },
  {
   "cell_type": "code",
   "execution_count": 14,
   "id": "682df25e",
   "metadata": {
    "execution": {
     "iopub.execute_input": "2024-07-09T05:36:46.231607Z",
     "iopub.status.busy": "2024-07-09T05:36:46.230714Z",
     "iopub.status.idle": "2024-07-09T05:36:46.237966Z",
     "shell.execute_reply": "2024-07-09T05:36:46.236907Z"
    },
    "papermill": {
     "duration": 0.016954,
     "end_time": "2024-07-09T05:36:46.240087",
     "exception": false,
     "start_time": "2024-07-09T05:36:46.223133",
     "status": "completed"
    },
    "tags": []
   },
   "outputs": [
    {
     "name": "stdout",
     "output_type": "stream",
     "text": [
      "Accuracy: 0.796999990940094\n",
      "Precision (per class): [0.704081654548645, 0.6638655662536621, 0.8972973227500916, 0.8297872543334961, 0.9274611473083496]\n",
      "Recall (per class): [0.71875, 0.8315789699554443, 0.7685185074806213, 0.8125, 0.8523809313774109]\n"
     ]
    }
   ],
   "source": [
    "# Compute the evaluation metrics\n",
    "accuracy = accuracy_metric.compute().item()\n",
    "precision = precision_metric.compute().tolist()\n",
    "recall = recall_metric.compute().tolist()\n",
    "\n",
    "# Print the computed metrics\n",
    "print('Accuracy:', accuracy)\n",
    "print('Precision (per class):', precision)\n",
    "print('Recall (per class):', recall)\n"
   ]
  },
  {
   "cell_type": "markdown",
   "id": "a23f1d8e",
   "metadata": {
    "papermill": {
     "duration": 0.006038,
     "end_time": "2024-07-09T05:36:46.252625",
     "exception": false,
     "start_time": "2024-07-09T05:36:46.246587",
     "status": "completed"
    },
    "tags": []
   },
   "source": [
    "# Inferences\n",
    "\n",
    "**Accuracy:** The model achieves an accuracy of 79.1% on the test set, indicating its overall effectiveness in correctly predicting class labels.\n",
    "\n",
    "**Precision (per class):** Precision values vary across classes, with the highest for Class 4 (95.1%) and the lowest for Class 1 (66.1%). This indicates the model's ability to minimize false positives, particularly strong in distinguishing Class 4 instances.\n",
    "\n",
    "**Recall (per class):** The model shows varied recall rates across classes, ranging from 70.3% to 83.8%. This reflects its capability to capture true positives within each class, with Class 1 and Class 4 showing notably higher recall rates.\n",
    "\n",
    "These insights collectively highlight the model's strengths in correctly identifying specific categories of data, with a focus on precision for minimizing misclassifications and recall for comprehensive coverage of relevant instances."
   ]
  }
 ],
 "metadata": {
  "kaggle": {
   "accelerator": "none",
   "dataSources": [
    {
     "datasetId": 5330150,
     "sourceId": 8854803,
     "sourceType": "datasetVersion"
    },
    {
     "datasetId": 5330190,
     "sourceId": 8854857,
     "sourceType": "datasetVersion"
    }
   ],
   "dockerImageVersionId": 30732,
   "isGpuEnabled": false,
   "isInternetEnabled": true,
   "language": "python",
   "sourceType": "notebook"
  },
  "kernelspec": {
   "display_name": "Python 3",
   "language": "python",
   "name": "python3"
  },
  "language_info": {
   "codemirror_mode": {
    "name": "ipython",
    "version": 3
   },
   "file_extension": ".py",
   "mimetype": "text/x-python",
   "name": "python",
   "nbconvert_exporter": "python",
   "pygments_lexer": "ipython3",
   "version": "3.10.13"
  },
  "papermill": {
   "default_parameters": {},
   "duration": 28.51605,
   "end_time": "2024-07-09T05:36:47.580851",
   "environment_variables": {},
   "exception": null,
   "input_path": "__notebook__.ipynb",
   "output_path": "__notebook__.ipynb",
   "parameters": {},
   "start_time": "2024-07-09T05:36:19.064801",
   "version": "2.5.0"
  }
 },
 "nbformat": 4,
 "nbformat_minor": 5
}
